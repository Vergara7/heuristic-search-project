{
 "cells": [
  {
   "cell_type": "code",
   "execution_count": 1,
   "metadata": {},
   "outputs": [],
   "source": [
    "%matplotlib inline\n",
    "import numpy as np\n",
    "import pandas as pd\n",
    "from matplotlib import pyplot as plt\n",
    "from scipy.spatial import distance"
   ]
  },
  {
   "cell_type": "code",
   "execution_count": 2,
   "metadata": {},
   "outputs": [
    {
     "name": "stdout",
     "output_type": "stream",
     "text": [
      "22.486832980505138\n",
      "[271, 452, 271, 440, 270, 440, 267, 449]\n",
      "../artifacts/anya/maze maze512-4-9.map.scen 61\n"
     ]
    }
   ],
   "source": [
    "import os\n",
    "\n",
    "cnt = 0\n",
    "stats = {}\n",
    "for root, dirs, files in os.walk('../artifacts'):\n",
    "    for name in files:\n",
    "        path = root.split('/') \n",
    "        if len(path) == 4:\n",
    "            algo, map_type = path[-2:]\n",
    "            if algo not in stats:\n",
    "                stats[algo] = {}\n",
    "            if map_type not in stats[algo]:\n",
    "                stats[algo][map_type] = np.array([])\n",
    "            with open(os.path.join(root, name)) as f:\n",
    "                for i, line in enumerate(f.readlines()[::2]):\n",
    "                    path = list(map(int, line.strip().split()))\n",
    "                    xs, ys = path[::2], path[1::2]\n",
    "                    path_len = np.sum([distance.euclidean([x, y], \n",
    "                                                         [xs[i + 1], ys[i + 1]]) \n",
    "                                      for i, (x, y) in enumerate(list(zip(xs, ys))[:-1])])\n",
    "                    stats[algo][map_type] = np.append(stats[algo][map_type], path_len)\n",
    "                    if algo == 'anya' and map_type =='maze':\n",
    "                        if cnt == 1881:\n",
    "                            print(path_len)\n",
    "                            print(path)\n",
    "                            print(root, name, i)\n",
    "                        cnt += 1"
   ]
  },
  {
   "cell_type": "code",
   "execution_count": 3,
   "metadata": {},
   "outputs": [
    {
     "ename": "ValueError",
     "evalue": "operands could not be broadcast together with shapes (8390,) (8336,) (8336,) (8336,) ",
     "output_type": "error",
     "traceback": [
      "\u001b[0;31m---------------------------------------------------------------------------\u001b[0m",
      "\u001b[0;31mValueError\u001b[0m                                Traceback (most recent call last)",
      "\u001b[0;32m<ipython-input-3-a89be2e0645e>\u001b[0m in \u001b[0;36m<module>\u001b[0;34m\u001b[0m\n\u001b[1;32m      5\u001b[0m \u001b[0;32mfor\u001b[0m \u001b[0mm\u001b[0m \u001b[0;32min\u001b[0m \u001b[0mmaps\u001b[0m\u001b[0;34m:\u001b[0m\u001b[0;34m\u001b[0m\u001b[0;34m\u001b[0m\u001b[0m\n\u001b[1;32m      6\u001b[0m     \u001b[0mtheta\u001b[0m\u001b[0;34m,\u001b[0m \u001b[0manya\u001b[0m \u001b[0;34m=\u001b[0m \u001b[0mstats\u001b[0m\u001b[0;34m[\u001b[0m\u001b[0;34m'2k_3.euclidian'\u001b[0m\u001b[0;34m]\u001b[0m\u001b[0;34m[\u001b[0m\u001b[0mm\u001b[0m\u001b[0;34m]\u001b[0m\u001b[0;34m,\u001b[0m \u001b[0mstats\u001b[0m\u001b[0;34m[\u001b[0m\u001b[0;34m'anya'\u001b[0m\u001b[0;34m]\u001b[0m\u001b[0;34m[\u001b[0m\u001b[0mm\u001b[0m\u001b[0;34m]\u001b[0m\u001b[0;34m\u001b[0m\u001b[0;34m\u001b[0m\u001b[0m\n\u001b[0;32m----> 7\u001b[0;31m     \u001b[0mprint\u001b[0m\u001b[0;34m(\u001b[0m\u001b[0mm\u001b[0m\u001b[0;34m,\u001b[0m \u001b[0;36m100\u001b[0m \u001b[0;34m*\u001b[0m \u001b[0;34m(\u001b[0m\u001b[0mnp\u001b[0m\u001b[0;34m.\u001b[0m\u001b[0mmean\u001b[0m\u001b[0;34m(\u001b[0m\u001b[0mnp\u001b[0m\u001b[0;34m.\u001b[0m\u001b[0mdivide\u001b[0m\u001b[0;34m(\u001b[0m\u001b[0mtheta\u001b[0m\u001b[0;34m,\u001b[0m \u001b[0manya\u001b[0m\u001b[0;34m,\u001b[0m \u001b[0mout\u001b[0m\u001b[0;34m=\u001b[0m\u001b[0mnp\u001b[0m\u001b[0;34m.\u001b[0m\u001b[0mones\u001b[0m\u001b[0;34m(\u001b[0m\u001b[0manya\u001b[0m\u001b[0;34m.\u001b[0m\u001b[0mshape\u001b[0m\u001b[0;34m[\u001b[0m\u001b[0;36m0\u001b[0m\u001b[0;34m]\u001b[0m\u001b[0;34m)\u001b[0m\u001b[0;34m,\u001b[0m \u001b[0mwhere\u001b[0m\u001b[0;34m=\u001b[0m\u001b[0manya\u001b[0m\u001b[0;34m!=\u001b[0m\u001b[0;36m0\u001b[0m\u001b[0;34m)\u001b[0m\u001b[0;34m)\u001b[0m \u001b[0;34m-\u001b[0m \u001b[0;36m1\u001b[0m\u001b[0;34m)\u001b[0m\u001b[0;34m)\u001b[0m\u001b[0;34m\u001b[0m\u001b[0;34m\u001b[0m\u001b[0m\n\u001b[0m",
      "\u001b[0;31mValueError\u001b[0m: operands could not be broadcast together with shapes (8390,) (8336,) (8336,) (8336,) "
     ]
    }
   ],
   "source": [
    "algos = ['anya', 'astar.eucidian', 'astar.diagonal']\n",
    "maps = ['baldurs-gate', 'maze', 'my-life-for-the-horde']\n",
    "\n",
    "\n",
    "for m in maps:\n",
    "    theta, anya = stats['2k_3.euclidian'][m], stats['anya'][m]\n",
    "    print(m, 100 * (np.mean(np.divide(theta, anya, out=np.ones(anya.shape[0]), where=anya!=0)) - 1))"
   ]
  },
  {
   "cell_type": "code",
   "execution_count": null,
   "metadata": {},
   "outputs": [],
   "source": [
    "np.argmax(stats['anya']['maze'] - stats['2k_3.euclidian']['maze'])"
   ]
  },
  {
   "cell_type": "code",
   "execution_count": null,
   "metadata": {},
   "outputs": [],
   "source": [
    "stats['anya']['maze'][1881]\n",
    "# stats['astar.diagonal']['my-life-for-the-horde'][732]"
   ]
  },
  {
   "cell_type": "code",
   "execution_count": null,
   "metadata": {},
   "outputs": [],
   "source": [
    "for k in maze:\n",
    "    print(k)"
   ]
  },
  {
   "cell_type": "code",
   "execution_count": null,
   "metadata": {},
   "outputs": [],
   "source": []
  }
 ],
 "metadata": {
  "kernelspec": {
   "display_name": "Python 3",
   "language": "python",
   "name": "python3"
  },
  "language_info": {
   "codemirror_mode": {
    "name": "ipython",
    "version": 3
   },
   "file_extension": ".py",
   "mimetype": "text/x-python",
   "name": "python",
   "nbconvert_exporter": "python",
   "pygments_lexer": "ipython3",
   "version": "3.9.2"
  }
 },
 "nbformat": 4,
 "nbformat_minor": 4
}
