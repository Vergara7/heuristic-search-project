{
 "cells": [
  {
   "cell_type": "code",
   "execution_count": 1,
   "metadata": {},
   "outputs": [],
   "source": [
    "%matplotlib inline\n",
    "import numpy as np\n",
    "import pandas as pd\n",
    "from matplotlib import pyplot as plt\n",
    "from scipy.spatial import distance"
   ]
  },
  {
   "cell_type": "code",
   "execution_count": 19,
   "metadata": {},
   "outputs": [
    {
     "name": "stdout",
     "output_type": "stream",
     "text": [
      "22.486832980505138\n",
      "[271, 452, 271, 440, 270, 440, 267, 449]\n",
      "../artifacts/anya/maze maze512-4-9.map.scen 61\n"
     ]
    }
   ],
   "source": [
    "import os\n",
    "\n",
    "cnt = 0\n",
    "stats = {}\n",
    "for root, dirs, files in os.walk('../artifacts'):\n",
    "    for name in files:\n",
    "        path = root.split('/') \n",
    "        if len(path) == 4:\n",
    "            algo, map_type = path[-2:]\n",
    "            if algo not in stats:\n",
    "                stats[algo] = {}\n",
    "            if map_type not in stats[algo]:\n",
    "                stats[algo][map_type] = np.array([])\n",
    "            with open(os.path.join(root, name)) as f:\n",
    "                for i, line in enumerate(f.readlines()[::2]):\n",
    "                    path = list(map(int, line.strip().split()))\n",
    "                    xs, ys = path[::2], path[1::2]\n",
    "                    path_len = np.sum([distance.euclidean([x, y], \n",
    "                                                         [xs[i + 1], ys[i + 1]]) \n",
    "                                      for i, (x, y) in enumerate(list(zip(xs, ys))[:-1])])\n",
    "                    stats[algo][map_type] = np.append(stats[algo][map_type], path_len)\n",
    "                    if algo == 'anya' and map_type =='maze':\n",
    "                        if cnt == 1881:\n",
    "                            print(path_len)\n",
    "                            print(path)\n",
    "                            print(root, name, i)\n",
    "                        cnt += 1"
   ]
  },
  {
   "cell_type": "code",
   "execution_count": 102,
   "metadata": {},
   "outputs": [
    {
     "name": "stdout",
     "output_type": "stream",
     "text": [
      "baldurs-gate 4.222917556225303\n",
      "maze 4.141839840448358\n",
      "my-life-for-the-horde 4.974658359605777\n"
     ]
    }
   ],
   "source": [
    "algos = ['anya', 'astar.eucidian', 'astar.diagonal']\n",
    "maps = ['baldurs-gate', 'maze', 'my-life-for-the-horde']\n",
    "\n",
    "\n",
    "for m in maps:\n",
    "    theta, anya = stats['2k_3.euclidian'][m], stats['anya'][m]\n",
    "    print(m, 100 * (np.mean(np.divide(theta, anya, out=np.ones(anya.shape[0]), where=anya!=0)) - 1))"
   ]
  },
  {
   "cell_type": "code",
   "execution_count": 15,
   "metadata": {},
   "outputs": [
    {
     "data": {
      "text/plain": [
       "1881"
      ]
     },
     "execution_count": 15,
     "metadata": {},
     "output_type": "execute_result"
    }
   ],
   "source": [
    "np.argmax(stats['anya']['maze'] - stats['2k_3.euclidian']['maze'])"
   ]
  },
  {
   "cell_type": "code",
   "execution_count": 17,
   "metadata": {},
   "outputs": [
    {
     "data": {
      "text/plain": [
       "22.486832980505138"
      ]
     },
     "execution_count": 17,
     "metadata": {},
     "output_type": "execute_result"
    }
   ],
   "source": [
    "stats['anya']['maze'][1881]\n",
    "# stats['astar.diagonal']['my-life-for-the-horde'][732]"
   ]
  },
  {
   "cell_type": "code",
   "execution_count": 105,
   "metadata": {},
   "outputs": [
    {
     "name": "stdout",
     "output_type": "stream",
     "text": [
      "theta.euclidian\n",
      "astar.chebyshev\n",
      "anya\n",
      "theta.diagonal\n",
      "astar.manhattan\n",
      "theta.trivial\n",
      "astar.diagonal\n",
      "theta.manhattan\n",
      "astar.euclidian\n",
      "theta.chebyshev\n",
      "astar.trivial\n"
     ]
    }
   ],
   "source": [
    "for k in maze:\n",
    "    print(k)"
   ]
  },
  {
   "cell_type": "code",
   "execution_count": null,
   "metadata": {},
   "outputs": [],
   "source": []
  }
 ],
 "metadata": {
  "kernelspec": {
   "display_name": "Python 3",
   "language": "python",
   "name": "python3"
  },
  "language_info": {
   "codemirror_mode": {
    "name": "ipython",
    "version": 3
   },
   "file_extension": ".py",
   "mimetype": "text/x-python",
   "name": "python",
   "nbconvert_exporter": "python",
   "pygments_lexer": "ipython3",
   "version": "3.8.3"
  }
 },
 "nbformat": 4,
 "nbformat_minor": 4
}
